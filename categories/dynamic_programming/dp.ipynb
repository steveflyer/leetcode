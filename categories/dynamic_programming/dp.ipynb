{
 "cells": [
  {
   "cell_type": "markdown",
   "source": [
    "## 最小代价爬楼梯\n",
    "\n",
    "[力扣 746](https://leetcode-cn.com/problems/min-cost-climbing-stairs/)\n",
    "\n",
    "![](../../imgs/746.png)"
   ],
   "metadata": {
    "collapsed": false
   }
  },
  {
   "cell_type": "code",
   "execution_count": 1,
   "metadata": {
    "collapsed": true
   },
   "outputs": [],
   "source": [
    "class Solution(object):\n",
    "    def minCostClimbingStairs(self, cost):\n",
    "        \"\"\"\n",
    "        :type cost: List[int]\n",
    "        :rtype: int\n",
    "        \"\"\"\n",
    "        n = len(cost)\n",
    "        # dp[i] 代表从第 i 级楼梯向上爬到顶的最小花费, 特别地, dp[n] = 0 用于辅助计算\n",
    "        dp = [0] * (n+1)\n",
    "        dp[n-1] = cost[n-1]\n",
    "        i = n-2\n",
    "        while i>=0:\n",
    "            dp[i] = cost[i] + min(dp[i+1], dp[i+2])\n",
    "            i-=1\n",
    "        return min(dp[0], dp[1])"
   ]
  },
  {
   "cell_type": "markdown",
   "source": [
    "## 不同路径\n",
    "\n",
    "[力扣 62](https://leetcode.cn/problems/unique-paths/)\n",
    "\n",
    "![](../../imgs/62.png)"
   ],
   "metadata": {
    "collapsed": false
   }
  },
  {
   "cell_type": "code",
   "execution_count": 1,
   "outputs": [],
   "source": [
    "class Solution(object):\n",
    "    def uniquePaths(self, m, n):\n",
    "        \"\"\"\n",
    "        :type m: int\n",
    "        :type n: int\n",
    "        :rtype: int\n",
    "        \"\"\"\n",
    "        dp = [[0] * n for _ in range(m)]\n",
    "        for i in range(m):\n",
    "            dp[i][-1] = 1\n",
    "        for j in range(n):\n",
    "            dp[-1][j] = 1\n",
    "        for i in range(m-2, -1, -1):\n",
    "            for j in range(n-2, -1, -1):\n",
    "                dp[i][j] = dp[i+1][j] + dp[i][j+1]\n",
    "        return dp[0][0]"
   ],
   "metadata": {
    "collapsed": false
   }
  },
  {
   "cell_type": "markdown",
   "source": [
    "## 不同路径 II\n",
    "\n",
    "[力扣 63](https://leetcode.cn/problems/unique-paths-ii/)\n",
    "\n",
    "![](../../imgs/63.png)"
   ],
   "metadata": {
    "collapsed": false
   }
  },
  {
   "cell_type": "code",
   "execution_count": 2,
   "outputs": [],
   "source": [
    "class Solution(object):\n",
    "    def uniquePathsWithObstacles(self, obstacleGrid):\n",
    "        \"\"\"\n",
    "        :type obstacleGrid: List[List[int]]\n",
    "        :rtype: int\n",
    "        \"\"\"\n",
    "        m, n = len(obstacleGrid), len(obstacleGrid[0])\n",
    "        dp = [[0] * n for _ in range(m)]\n",
    "\n",
    "        # dp init\n",
    "        for i in range(m-1, -1, -1):\n",
    "            if obstacleGrid[i][-1] > 0:\n",
    "                break\n",
    "            dp[i][-1] = 1\n",
    "\n",
    "        for j in range(n-1, -1, -1):\n",
    "            if obstacleGrid[-1][j] > 0:\n",
    "                break\n",
    "            dp[-1][j] = 1\n",
    "\n",
    "        for i in range(m-2, -1, -1):\n",
    "            for j in range(n-2, -1, -1):\n",
    "                # 赋值 dp[i][j]\n",
    "                if obstacleGrid[i][j] > 0:\n",
    "                    dp[i][j] = 0\n",
    "                    continue\n",
    "                dp[i][j] = dp[i+1][j] + dp[i][j+1]\n",
    "\n",
    "        return dp[0][0]"
   ],
   "metadata": {
    "collapsed": false
   }
  },
  {
   "cell_type": "markdown",
   "source": [
    "## 整数拆分\n",
    "\n",
    "[力扣 343](https://leetcode.cn/problems/integer-break/)"
   ],
   "metadata": {
    "collapsed": false
   }
  },
  {
   "cell_type": "markdown",
   "source": [
    "### Naive DP\n",
    "\n",
    "![](../../imgs/343_naive_dp.png)"
   ],
   "metadata": {
    "collapsed": false
   }
  },
  {
   "cell_type": "code",
   "execution_count": 4,
   "outputs": [],
   "source": [
    "class Solution(object):\n",
    "    def integerBreak(self, n):\n",
    "        \"\"\"\n",
    "        :type n: int\n",
    "        :rtype: int\n",
    "        \"\"\"\n",
    "        # dp[i][j] 意味着: 和为 i 的 j 个数可以达到的最大成绩, 第 0 行和第 0 列闲置不用, i >= j 才有意义\n",
    "        # i == 1...n\n",
    "        # j == 2...n\n",
    "        # dp init\n",
    "        dp = [[0] * (n+1) for _ in range(n+1)]\n",
    "        for i in range(1, n+1):\n",
    "            dp[i][1] = i\n",
    "\n",
    "        # dp sweep\n",
    "        for j in range(2, n+1):\n",
    "            for i in range(1, n+1):\n",
    "                # calculate dp[i][j]\n",
    "                potentials = []\n",
    "                for num in range(1, i+1):\n",
    "                    potentials.append(num * dp[i-num][j-1])\n",
    "                dp[i][j] = max(potentials)\n",
    "\n",
    "        return max(dp[n][2:])"
   ],
   "metadata": {
    "collapsed": false
   }
  },
  {
   "cell_type": "markdown",
   "source": [
    "### Optimized DP\n",
    "\n",
    "因为:\n",
    "\n",
    "如果一个最大的乘积里面包含一个大于或等于4的因数f，那么你可以用 $2$ 和 $f-2$ 来替换它，而不会影响结果的最大值。因为$$2*(f-2)=2f-4>=f$$。所以你永远不需要大于或等于4的因数，只需要用$1$、$2$和$3$这三个因数就可以了。但$1$是很浪费的，只有在$n$等于$2$或$3$时才需要用到。\n",
    "\n",
    "![](../../imgs/343_optimized_dp.png)"
   ],
   "metadata": {
    "collapsed": false
   }
  },
  {
   "cell_type": "code",
   "execution_count": 5,
   "outputs": [],
   "source": [
    "class Solution:\n",
    "    def integerBreak(self, n):\n",
    "        if n <= 3:\n",
    "            return n - 1\n",
    "\n",
    "        dp = [0] * (n + 1)\n",
    "        dp[2] = 1\n",
    "        for i in range(3, n + 1):\n",
    "            dp[i] = max(2 * (i - 2), 2 * dp[i - 2], 3 * (i - 3), 3 * dp[i - 3])\n",
    "\n",
    "        return dp[n]"
   ],
   "metadata": {
    "collapsed": false
   }
  },
  {
   "cell_type": "code",
   "execution_count": null,
   "outputs": [],
   "source": [],
   "metadata": {
    "collapsed": false
   }
  }
 ],
 "metadata": {
  "kernelspec": {
   "display_name": "Python 3",
   "language": "python",
   "name": "python3"
  },
  "language_info": {
   "codemirror_mode": {
    "name": "ipython",
    "version": 2
   },
   "file_extension": ".py",
   "mimetype": "text/x-python",
   "name": "python",
   "nbconvert_exporter": "python",
   "pygments_lexer": "ipython2",
   "version": "2.7.6"
  }
 },
 "nbformat": 4,
 "nbformat_minor": 0
}

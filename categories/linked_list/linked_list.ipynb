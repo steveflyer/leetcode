{
 "cells": [
  {
   "cell_type": "markdown",
   "source": [
    "# 链表"
   ],
   "metadata": {
    "collapsed": false
   }
  },
  {
   "cell_type": "markdown",
   "source": [
    "## 删除链表的中间节点(2095)\n",
    "\n",
    "[力扣 2095](https://leetcode.cn/problems/delete-the-middle-node-of-a-linked-list/)"
   ],
   "metadata": {
    "collapsed": false
   }
  },
  {
   "cell_type": "markdown",
   "source": [
    "![](../../imgs/2095.png)"
   ],
   "metadata": {
    "collapsed": false
   }
  },
  {
   "cell_type": "code",
   "execution_count": 1,
   "outputs": [],
   "source": [
    "# Definition for singly-linked list.\n",
    "class ListNode:\n",
    "    def __init__(self, val=0, next=None):\n",
    "        self.val = val\n",
    "        self.next = next\n",
    "\n",
    "class Solution:\n",
    "    def deleteMiddle(self, head):\n",
    "        hair = ListNode(0)\n",
    "        hair.next = head\n",
    "        prev, slow, fast = None, hair, hair\n",
    "\n",
    "        while fast is not None:\n",
    "            prev = slow\n",
    "            slow = slow.next\n",
    "            fast = fast.next\n",
    "            if fast is not None:\n",
    "                fast = fast.next\n",
    "\n",
    "        # 现在 slow 指向要删除的节点, prev 指向要删除的节点之前的节点\n",
    "        prev.next = slow.next\n",
    "        return hair.next"
   ],
   "metadata": {
    "collapsed": false
   }
  },
  {
   "cell_type": "code",
   "execution_count": null,
   "outputs": [],
   "source": [],
   "metadata": {
    "collapsed": false
   }
  }
 ],
 "metadata": {
  "kernelspec": {
   "display_name": "Python 3",
   "language": "python",
   "name": "python3"
  },
  "language_info": {
   "codemirror_mode": {
    "name": "ipython",
    "version": 2
   },
   "file_extension": ".py",
   "mimetype": "text/x-python",
   "name": "python",
   "nbconvert_exporter": "python",
   "pygments_lexer": "ipython2",
   "version": "2.7.6"
  }
 },
 "nbformat": 4,
 "nbformat_minor": 0
}

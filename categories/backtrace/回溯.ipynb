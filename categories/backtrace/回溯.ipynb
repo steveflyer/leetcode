{
 "cells": [
  {
   "cell_type": "markdown",
   "source": [
    "# 回溯算法"
   ],
   "metadata": {
    "collapsed": false
   }
  },
  {
   "cell_type": "markdown",
   "source": [
    "## 组合\n",
    "\n",
    "[力扣 77](https://leetcode-cn.com/problems/combinations/)"
   ],
   "metadata": {
    "collapsed": false
   }
  },
  {
   "cell_type": "markdown",
   "source": [
    "### 方法一: DFS"
   ],
   "metadata": {
    "collapsed": false
   }
  },
  {
   "cell_type": "code",
   "execution_count": 2,
   "outputs": [],
   "source": [
    "class Solution(object):\n",
    "    def combine(self, n, k):\n",
    "        \"\"\"\n",
    "        :type n: int\n",
    "        :type k: int\n",
    "        :rtype: List[List[int]]\n",
    "        \"\"\"\n",
    "        paths = []\n",
    "        path = []\n",
    "\n",
    "        def backtrace(n, start, left):\n",
    "            # 回溯剪枝(这一步很重要, 344ms --> 28ms)\n",
    "            if n+1-start<left:\n",
    "                return\n",
    "\n",
    "            # 回溯返回\n",
    "            if left == 0:\n",
    "                paths.append(path[:])\n",
    "                return\n",
    "\n",
    "            # DFS\n",
    "            for i in range(start, n+1):\n",
    "                path.append(i)\n",
    "                backtrace(n, i+1, left-1)\n",
    "                path.pop()\n",
    "\n",
    "        backtrace(n, 1, k)\n",
    "        return paths"
   ],
   "metadata": {
    "collapsed": false
   }
  },
  {
   "cell_type": "markdown",
   "source": [
    "### 方法二: BFS"
   ],
   "metadata": {
    "collapsed": false
   }
  },
  {
   "cell_type": "code",
   "execution_count": 3,
   "outputs": [],
   "source": [
    "class Solution(object):\n",
    "    def combine(self, n, k):\n",
    "        \"\"\"\n",
    "        :type n: int\n",
    "        :type k: int\n",
    "        :rtype: List[List[int]]\n",
    "        \"\"\"\n",
    "        paths = []\n",
    "\n",
    "        #             n = 5, k = 3\n",
    "        #          1              2            3\n",
    "        #    2     3    4      3      4        4\n",
    "        #  3 4 5  4 5   5     4 5     5        5\n",
    "\n",
    "        return paths"
   ],
   "metadata": {
    "collapsed": false
   }
  },
  {
   "cell_type": "markdown",
   "source": [
    "## 子集\n",
    "\n",
    "[力扣 78](https://leetcode-cn.com/problems/subsets/)"
   ],
   "metadata": {
    "collapsed": false
   }
  },
  {
   "cell_type": "markdown",
   "source": [
    "### 方法一: DFS"
   ],
   "metadata": {
    "collapsed": false
   }
  },
  {
   "cell_type": "code",
   "execution_count": 4,
   "metadata": {
    "collapsed": true
   },
   "outputs": [],
   "source": [
    "class Solution(object):\n",
    "    def subsets(self, nums):\n",
    "        \"\"\"\n",
    "        :type nums: List[int]\n",
    "        :rtype: List[List[int]]\n",
    "        \"\"\"\n",
    "        paths = []\n",
    "        path = []\n",
    "\n",
    "        def backtrace(nums, start_idx):\n",
    "            # 注意这里要使用切片进行复制, 否则 python 中的列表是引用传递\n",
    "            paths.append(path[:])\n",
    "\n",
    "            for i in range(start_idx, len(nums)):\n",
    "                path.append(nums[i])\n",
    "                backtrace(nums, i+1)\n",
    "                path.pop()\n",
    "\n",
    "        backtrace(nums, 0)\n",
    "        return paths\n"
   ]
  },
  {
   "cell_type": "markdown",
   "source": [
    "### 方法二: BFS"
   ],
   "metadata": {
    "collapsed": false
   }
  },
  {
   "cell_type": "code",
   "execution_count": 5,
   "outputs": [],
   "source": [
    "class Solution(object):\n",
    "    def subsets(self, nums):\n",
    "        \"\"\"\n",
    "        :type nums: List[int]\n",
    "        :rtype: List[List[int]]\n",
    "        \"\"\"\n",
    "        paths = [[]]\n",
    "\n",
    "        for i in range(len(nums)):\n",
    "            # 注意这里要使用切片进行复制, 否则 python 中的列表是引用传递\n",
    "            for path in paths[:]:\n",
    "                paths.append(path + [nums[i]])\n",
    "\n",
    "        return paths"
   ],
   "metadata": {
    "collapsed": false
   }
  },
  {
   "cell_type": "markdown",
   "source": [],
   "metadata": {
    "collapsed": false
   }
  },
  {
   "cell_type": "markdown",
   "source": [
    "## 子集 II\n",
    "\n",
    "[力扣 90](https://leetcode-cn.com/problems/subsets-ii/)"
   ],
   "metadata": {
    "collapsed": false
   }
  },
  {
   "cell_type": "markdown",
   "source": [
    "### 方法一: DFS\n",
    "\n",
    "解 DFS 主要就是要画出递归树, 然后找到重复的子问题，确定剪枝策略即可。\n",
    "\n",
    "![](../imgs/90.png)\n",
    "\n",
    "本题的剪枝策略很简单: 如果当前元素和前一个元素相同, 则跳过当前元素, 因为前一个元素已经包含了当前元素的所有子集。\n",
    "\n"
   ],
   "metadata": {
    "collapsed": false
   }
  },
  {
   "cell_type": "code",
   "execution_count": 6,
   "outputs": [],
   "source": [
    "class Solution:\n",
    "    def subsetsWithDup(self, nums):\n",
    "        nums.sort()\n",
    "        paths = []\n",
    "        path = []\n",
    "\n",
    "        def backtrace(start_idx):\n",
    "            paths.append(path[:])\n",
    "\n",
    "            for i in range(start_idx, len(nums)):\n",
    "                if i > start_idx and nums[i] == nums[i-1]:\n",
    "                    continue\n",
    "                path.append(nums[i])\n",
    "                backtrace(i+1)\n",
    "                path.pop()\n",
    "\n",
    "        backtrace(0)\n",
    "        return paths"
   ],
   "metadata": {
    "collapsed": false
   }
  },
  {
   "cell_type": "markdown",
   "source": [
    "## 组合总和\n",
    "\n",
    "[力扣 39](https://leetcode-cn.com/problems/combination-sum/)"
   ],
   "metadata": {
    "collapsed": false
   }
  },
  {
   "cell_type": "markdown",
   "source": [
    "### 方法一: DFS"
   ],
   "metadata": {
    "collapsed": false
   }
  },
  {
   "cell_type": "code",
   "execution_count": null,
   "outputs": [],
   "source": [
    "class Solution(object):\n",
    "    def combinationSum(self, candidates, target):\n",
    "        \"\"\"\n",
    "        :type candidates: List[int]\n",
    "        :type target: int\n",
    "        :rtype: List[List[int]]\n",
    "        \"\"\"\n",
    "        paths = []\n",
    "        path = []\n",
    "        candidates.sort()\n",
    "        def backtrace(candidates, start_idx, target):\n",
    "            # 回溯返回\n",
    "            if target == 0:\n",
    "                paths.append(path[:])\n",
    "                return\n",
    "\n",
    "            # 回溯剪枝\n",
    "            if start_idx>=len(candidates) or candidates[start_idx] > target:\n",
    "                return\n",
    "\n",
    "            # DFS\n",
    "            for i in range(start_idx, len(candidates)):\n",
    "                path.append(candidates[i])\n",
    "                backtrace(candidates, i, target-candidates[i])\n",
    "                path.pop()\n",
    "\n",
    "        backtrace(candidates, 0, target)\n",
    "        return paths"
   ],
   "metadata": {
    "collapsed": false
   }
  },
  {
   "cell_type": "markdown",
   "source": [
    "## 组合问题 II\n",
    "\n",
    "[力扣 40](https://leetcode-cn.com/problems/combination-sum-ii/)"
   ],
   "metadata": {
    "collapsed": false
   }
  },
  {
   "cell_type": "markdown",
   "source": [
    "### 方法一: DFS"
   ],
   "metadata": {
    "collapsed": false
   }
  },
  {
   "cell_type": "code",
   "execution_count": null,
   "outputs": [],
   "source": [
    "class Solution(object):\n",
    "    def combinationSum2(self, candidates, target):\n",
    "        \"\"\"\n",
    "        :type candidates: List[int]\n",
    "        :type target: int\n",
    "        :rtype: List[List[int]]\n",
    "        \"\"\"\n",
    "        paths = []\n",
    "        path = []\n",
    "        candidates.sort()\n",
    "\n",
    "        def backtrace(candidates, start_idx, target):\n",
    "            if target == 0:\n",
    "                paths.append(path[:])\n",
    "                return\n",
    "\n",
    "            if start_idx == len(candidates) or candidates[start_idx] > target:\n",
    "                return\n",
    "\n",
    "            for i in range(start_idx, len(candidates)):\n",
    "                if i>start_idx and candidates[i] == candidates[i-1]:\n",
    "                    continue\n",
    "                path.append(candidates[i])\n",
    "                backtrace(candidates, i+1, target-candidates[i])\n",
    "                path.pop()\n",
    "\n",
    "        backtrace(candidates, 0, target)\n",
    "        return paths"
   ],
   "metadata": {
    "collapsed": false
   }
  },
  {
   "cell_type": "markdown",
   "source": [
    "## 分割回文串\n",
    "\n",
    "[力扣 131](https://leetcode-cn.com/problems/palindrome-partitioning/)"
   ],
   "metadata": {
    "collapsed": false
   }
  },
  {
   "cell_type": "markdown",
   "source": [
    "### 方法一: DFS"
   ],
   "metadata": {
    "collapsed": false
   }
  },
  {
   "cell_type": "code",
   "execution_count": null,
   "outputs": [],
   "source": [
    "class Solution(object):\n",
    "    def partition(self, s):\n",
    "        \"\"\"\n",
    "        :type s: str\n",
    "        :rtype: List[List[str]]\n",
    "        \"\"\"\n",
    "        paths = []\n",
    "        path = []\n",
    "\n",
    "        def backtrace(start_idx):\n",
    "            if start_idx == len(s):\n",
    "                paths.append(path[:])\n",
    "\n",
    "            for j in range(start_idx+1, len(s)+1):\n",
    "                if self.isPalindrome(s[start_idx:j]):\n",
    "                    path.append(s[start_idx:j])\n",
    "                    backtrace(j)\n",
    "                    path.pop()\n",
    "\n",
    "        backtrace(0)\n",
    "        return paths\n",
    "\n",
    "    def isPalindrome(self, s):\n",
    "        if len(s) == 0:\n",
    "            return True\n",
    "        return s[0]==s[-1] and self.isPalindrome(s[1:-1])"
   ],
   "metadata": {
    "collapsed": false
   }
  },
  {
   "cell_type": "markdown",
   "source": [
    "### 方法二: DFS + DP 预处理\n",
    "\n",
    "![](../imgs/131.png)"
   ],
   "metadata": {
    "collapsed": false
   }
  },
  {
   "cell_type": "code",
   "execution_count": null,
   "outputs": [],
   "source": [
    "class Solution(object):\n",
    "    def partition(self, s):\n",
    "        \"\"\"\n",
    "        :type s: str\n",
    "        :rtype: List[List[str]]\n",
    "        \"\"\"\n",
    "        paths = []\n",
    "        path = []\n",
    "        n = len(s)\n",
    "\n",
    "        # 动态规划预处理\n",
    "        dp = [[True] * n for _ in range(n)]\n",
    "        for i in range(n - 1, -1, -1):\n",
    "            for j in range(i + 1, n):\n",
    "                dp[i][j] = (s[i] == s[j]) and dp[i + 1][j - 1]\n",
    "\n",
    "        def backtrace(start_idx):\n",
    "            if start_idx == len(s):\n",
    "                paths.append(path[:])\n",
    "\n",
    "            for j in range(start_idx+1, len(s)+1):\n",
    "                if dp[start_idx][j-1]:\n",
    "                    path.append(s[start_idx:j])\n",
    "                    backtrace(j)\n",
    "                    path.pop()\n",
    "        backtrace(0)\n",
    "        return paths"
   ],
   "metadata": {
    "collapsed": false
   }
  },
  {
   "cell_type": "markdown",
   "source": [
    "## 复原 IP 地址\n",
    "\n",
    "[力扣 93](https://leetcode-cn.com/problems/restore-ip-addresses/)"
   ],
   "metadata": {
    "collapsed": false
   }
  },
  {
   "cell_type": "markdown",
   "source": [
    "### 方法一: 回溯\n",
    "\n",
    "几个注意点:\n",
    "\n",
    "1. **排除前导零**: 这里我是通过控制 `max_j` 的大小来实现的: 如果 `s[start_idx]` 为 0, 那么当前位置最多取 1 位, 否则最多取 3 位\n",
    "2. **回溯剪枝**: 如果剩余的位数大于 `remains * 3`, 那么就不用继续往下搜索了, 这使得时间: 24ms --> 12ms\n",
    "\n",
    "![](../imgs/93.png)"
   ],
   "metadata": {
    "collapsed": false
   }
  },
  {
   "cell_type": "code",
   "execution_count": 11,
   "outputs": [],
   "source": [
    "class Solution(object):\n",
    "    def restoreIpAddresses(self, s):\n",
    "        \"\"\"\n",
    "        :type s: str\n",
    "        :rtype: List[str]\n",
    "        \"\"\"\n",
    "        paths = []\n",
    "        path = []\n",
    "        n = len(s)\n",
    "        def backtrace(start_idx, remains):\n",
    "            # 回溯返回\n",
    "            if remains == 0:\n",
    "                if start_idx == n:\n",
    "                    paths.append(\".\".join(path))\n",
    "                return\n",
    "\n",
    "            # 回溯剪枝\n",
    "            if start_idx == n or ((n-start_idx) > remains * 3):\n",
    "                return\n",
    "\n",
    "            # 排除前导零\n",
    "            if s[start_idx] == '0':\n",
    "                max_j = min(1, n-start_idx)\n",
    "            else:\n",
    "                max_j = min(3, n-start_idx)\n",
    "\n",
    "            for j in range(1, max_j + 1):\n",
    "                # j = 1...n - start_idx\n",
    "                # start_idx + j = start_idx+1... n\n",
    "                num = int(s[start_idx:start_idx+j])\n",
    "                if num < 256:\n",
    "                    path.append(str(num))\n",
    "                    backtrace(start_idx+j, remains-1)\n",
    "                    path.pop()\n",
    "                else:\n",
    "                    break\n",
    "        backtrace(0, 4)\n",
    "        return paths"
   ],
   "metadata": {
    "collapsed": false
   }
  },
  {
   "cell_type": "code",
   "execution_count": null,
   "outputs": [],
   "source": [],
   "metadata": {
    "collapsed": false
   }
  }
 ],
 "metadata": {
  "kernelspec": {
   "display_name": "Python 3",
   "language": "python",
   "name": "python3"
  },
  "language_info": {
   "codemirror_mode": {
    "name": "ipython",
    "version": 2
   },
   "file_extension": ".py",
   "mimetype": "text/x-python",
   "name": "python",
   "nbconvert_exporter": "python",
   "pygments_lexer": "ipython2",
   "version": "2.7.6"
  }
 },
 "nbformat": 4,
 "nbformat_minor": 0
}

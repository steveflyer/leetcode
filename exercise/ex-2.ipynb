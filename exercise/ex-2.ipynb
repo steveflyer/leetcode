{
 "cells": [
  {
   "cell_type": "markdown",
   "source": [
    "## 56. 合并区间\n",
    "\n",
    "[力扣 56](https://leetcode-cn.com/problems/merge-intervals/)\n",
    "\n",
    "![](../imgs/56.png)"
   ],
   "metadata": {
    "collapsed": false
   }
  },
  {
   "cell_type": "markdown",
   "source": [
    "**本题获得的神奇经验**\n",
    "\n",
    "Python 中两种 for 循环的方式的空间占用情况:\n",
    "\n",
    "- `for interval in intervals`:  18.2 MB\n",
    "- `for left, right in intervals`:  18.9 MB\n",
    "\n",
    "我想有可能是 `left`, `right` 开辟了新的空间, 或者是 merged.append 中传入的 `[left, right]` 是新创建的数组, 而非 `interval` 这样的已创建的对象。"
   ],
   "metadata": {
    "collapsed": false
   }
  },
  {
   "cell_type": "code",
   "execution_count": 2,
   "metadata": {
    "collapsed": true
   },
   "outputs": [],
   "source": [
    "class Solution:\n",
    "    def merge(self, intervals):\n",
    "        intervals.sort(key=lambda x:x[0])\n",
    "\n",
    "        merged = []\n",
    "\n",
    "        for left, right in intervals:\n",
    "            if not merged or merged[-1][1] < left:\n",
    "                merged.append([left, right])\n",
    "            else:\n",
    "                merged[-1][1] = max(merged[-1][1], right)\n",
    "        return merged"
   ]
  },
  {
   "cell_type": "markdown",
   "source": [
    "## 57. 插入区间\n",
    "\n",
    "[力扣 57](https://leetcode-cn.com/problems/insert-interval/)"
   ],
   "metadata": {
    "collapsed": false
   }
  },
  {
   "cell_type": "markdown",
   "source": [
    "### 我的解法\n",
    "\n",
    "![](../imgs/57_mine.png)"
   ],
   "metadata": {
    "collapsed": false
   }
  },
  {
   "cell_type": "code",
   "execution_count": null,
   "outputs": [],
   "source": [
    "class Solution:\n",
    "    def insert(self, intervals, newInterval):\n",
    "        # special case\n",
    "        if len(intervals) == 0:\n",
    "            return [newInterval]\n",
    "\n",
    "        # general case, len(intervals) >= 1\n",
    "        intervals.sort(key=lambda x:x[0])\n",
    "        for i, interval in enumerate(intervals):\n",
    "            if newInterval[0] <= interval[1]:\n",
    "                if newInterval[1] >= interval[0]:\n",
    "                    left, right = min(interval[0], newInterval[0]), max(interval[1], newInterval[1])\n",
    "                    j = i + 1\n",
    "                    while j < len(intervals) and right >= intervals[j][0]:\n",
    "                        right = max(right, intervals[j][1])\n",
    "                        j += 1\n",
    "                    return intervals[:i] + [[left, right]] + intervals[j:]\n",
    "                else:\n",
    "                    return intervals[:i] + [newInterval] + intervals[i:]\n",
    "\n",
    "        return intervals + [newInterval]\n"
   ],
   "metadata": {
    "collapsed": false
   }
  },
  {
   "cell_type": "markdown",
   "source": [
    "### 官方题解\n"
   ],
   "metadata": {
    "collapsed": false
   }
  },
  {
   "cell_type": "code",
   "execution_count": null,
   "outputs": [],
   "source": [
    "class Solution(object):\n",
    "    def insert(self, intervals, newInterval):\n",
    "        left, right = newInterval\n",
    "        placed = False\n",
    "        ans = list()\n",
    "        for li, ri in intervals:\n",
    "            if li > right:\n",
    "                # 在插入区间的右侧且无交集\n",
    "                if not placed:\n",
    "                    ans.append([left, right])\n",
    "                    placed = True\n",
    "                ans.append([li, ri])\n",
    "            elif ri < left:\n",
    "                # 在插入区间的左侧且无交集\n",
    "                ans.append([li, ri])\n",
    "            else:\n",
    "                # 与插入区间有交集，计算它们的并集\n",
    "                left = min(left, li)\n",
    "                right = max(right, ri)\n",
    "\n",
    "        if not placed:\n",
    "            ans.append([left, right])\n",
    "        return ans"
   ],
   "metadata": {
    "collapsed": false
   }
  },
  {
   "cell_type": "markdown",
   "source": [
    "## 长度最小的子数组(209)\n",
    "\n",
    "[力扣 209](https://leetcode-cn.com/problems/minimum-size-subarray-sum/)"
   ],
   "metadata": {
    "collapsed": false
   }
  },
  {
   "cell_type": "markdown",
   "source": [
    "### 方法一: 滑动窗口\n",
    "\n",
    "在滑动窗口实现中, 如果发现窗口的哪一边是每次单调增加 1 的, 那么可以考虑使用 for 循环来实现, 而不是 while 循环。下面是我提交的第一个版本, 依然习惯性地使用了 while, 代码不够高效。\n",
    "\n",
    "![](../imgs/209_1.png)"
   ],
   "metadata": {
    "collapsed": false
   }
  },
  {
   "cell_type": "code",
   "execution_count": null,
   "outputs": [],
   "source": [
    "class Solution:\n",
    "    def minSubArrayLen(self, target, nums):\n",
    "        i, j, n = 0, 0, len(nums)\n",
    "        min_len = n + 1\n",
    "        temp_sum, temp_len = 0, 0\n",
    "        while j < n:\n",
    "            while j < n and temp_sum < target:\n",
    "                temp_sum += nums[j]\n",
    "                temp_len += 1\n",
    "                j += 1\n",
    "\n",
    "            # 调整 i 的位置, 使得 temp_sum < target\n",
    "            while i <= j and temp_sum>=target:\n",
    "                min_len = min(min_len, temp_len)\n",
    "                temp_sum -= nums[i]\n",
    "                temp_len -= 1\n",
    "                i += 1\n",
    "\n",
    "        return 0 if min_len > n else min_len"
   ],
   "metadata": {
    "collapsed": false
   }
  },
  {
   "cell_type": "markdown",
   "source": [
    "## 矩阵置零(73)\n",
    "\n",
    "[力扣 73](https://leetcode-cn.com/problems/set-matrix-zeroes/)"
   ],
   "metadata": {
    "collapsed": false
   }
  },
  {
   "cell_type": "markdown",
   "source": [
    "![](../imgs/73.png)"
   ],
   "metadata": {
    "collapsed": false
   }
  },
  {
   "cell_type": "code",
   "execution_count": null,
   "outputs": [],
   "source": [
    "class Solution:\n",
    "    def setZeroes(self, matrix):\n",
    "        \"\"\"\n",
    "        Do not return anything, modify matrix in-place instead.\n",
    "        \"\"\"\n",
    "        m, n = len(matrix), len(matrix[0])\n",
    "        rows, cols = [False] * m, [False] * n\n",
    "\n",
    "        for i in range(m):\n",
    "            for j in range(n):\n",
    "                if matrix[i][j] == 0:\n",
    "                    rows[i] = True\n",
    "                    cols[j] = True\n",
    "\n",
    "        for i in range(m):\n",
    "            for j in range(n):\n",
    "                if rows[i] or cols[j]:\n",
    "                    matrix[i][j] = 0\n",
    "\n",
    "        return matrix"
   ],
   "metadata": {
    "collapsed": false
   }
  }
 ],
 "metadata": {
  "kernelspec": {
   "display_name": "Python 3",
   "language": "python",
   "name": "python3"
  },
  "language_info": {
   "codemirror_mode": {
    "name": "ipython",
    "version": 2
   },
   "file_extension": ".py",
   "mimetype": "text/x-python",
   "name": "python",
   "nbconvert_exporter": "python",
   "pygments_lexer": "ipython2",
   "version": "2.7.6"
  }
 },
 "nbformat": 4,
 "nbformat_minor": 0
}
